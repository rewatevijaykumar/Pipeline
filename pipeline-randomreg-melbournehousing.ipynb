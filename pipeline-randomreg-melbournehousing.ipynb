{
 "cells": [
  {
   "cell_type": "code",
   "execution_count": 1,
   "metadata": {
    "_cell_guid": "79c7e3d0-c299-4dcb-8224-4455121ee9b0",
    "_uuid": "d629ff2d2480ee46fbb7e2d37f6b5fab8052498a",
    "execution": {
     "iopub.execute_input": "2020-12-21T14:01:04.289006Z",
     "iopub.status.busy": "2020-12-21T14:01:04.288325Z",
     "iopub.status.idle": "2020-12-21T14:01:05.479166Z",
     "shell.execute_reply": "2020-12-21T14:01:05.479787Z"
    },
    "papermill": {
     "duration": 1.204949,
     "end_time": "2020-12-21T14:01:05.479986",
     "exception": false,
     "start_time": "2020-12-21T14:01:04.275037",
     "status": "completed"
    },
    "tags": []
   },
   "outputs": [],
   "source": [
    "import pandas as pd\n",
    "from sklearn.model_selection import train_test_split\n",
    "\n",
    "data = pd.read_csv('../input/melbourne-housing-snapshot/melb_data.csv')\n",
    "\n",
    "y = data.Price\n",
    "X = data.drop('Price', axis=1)"
   ]
  },
  {
   "cell_type": "code",
   "execution_count": 2,
   "metadata": {
    "execution": {
     "iopub.execute_input": "2020-12-21T14:01:05.500429Z",
     "iopub.status.busy": "2020-12-21T14:01:05.499778Z",
     "iopub.status.idle": "2020-12-21T14:01:05.513864Z",
     "shell.execute_reply": "2020-12-21T14:01:05.513298Z"
    },
    "papermill": {
     "duration": 0.027317,
     "end_time": "2020-12-21T14:01:05.513978",
     "exception": false,
     "start_time": "2020-12-21T14:01:05.486661",
     "status": "completed"
    },
    "tags": []
   },
   "outputs": [],
   "source": [
    "train_X, test_X, train_y, test_y = train_test_split(X, y, train_size=0.75, test_size=0.25, random_state=0)"
   ]
  },
  {
   "cell_type": "code",
   "execution_count": 3,
   "metadata": {
    "execution": {
     "iopub.execute_input": "2020-12-21T14:01:05.533217Z",
     "iopub.status.busy": "2020-12-21T14:01:05.532546Z",
     "iopub.status.idle": "2020-12-21T14:01:05.549978Z",
     "shell.execute_reply": "2020-12-21T14:01:05.549400Z"
    },
    "papermill": {
     "duration": 0.029725,
     "end_time": "2020-12-21T14:01:05.550102",
     "exception": false,
     "start_time": "2020-12-21T14:01:05.520377",
     "status": "completed"
    },
    "tags": []
   },
   "outputs": [],
   "source": [
    "categorical_cols = [cname for cname in train_X.columns if train_X[cname].nunique()<10 and train_X[cname].dtype=='object']"
   ]
  },
  {
   "cell_type": "code",
   "execution_count": 4,
   "metadata": {
    "execution": {
     "iopub.execute_input": "2020-12-21T14:01:05.568628Z",
     "iopub.status.busy": "2020-12-21T14:01:05.567815Z",
     "iopub.status.idle": "2020-12-21T14:01:05.570682Z",
     "shell.execute_reply": "2020-12-21T14:01:05.570046Z"
    },
    "papermill": {
     "duration": 0.014244,
     "end_time": "2020-12-21T14:01:05.570791",
     "exception": false,
     "start_time": "2020-12-21T14:01:05.556547",
     "status": "completed"
    },
    "tags": []
   },
   "outputs": [],
   "source": [
    "numerical_cols = [cname for cname in train_X.columns if train_X[cname].dtype in ['int64', 'float64']]"
   ]
  },
  {
   "cell_type": "code",
   "execution_count": 5,
   "metadata": {
    "execution": {
     "iopub.execute_input": "2020-12-21T14:01:05.589871Z",
     "iopub.status.busy": "2020-12-21T14:01:05.589217Z",
     "iopub.status.idle": "2020-12-21T14:01:05.761503Z",
     "shell.execute_reply": "2020-12-21T14:01:05.760958Z"
    },
    "papermill": {
     "duration": 0.184372,
     "end_time": "2020-12-21T14:01:05.761625",
     "exception": false,
     "start_time": "2020-12-21T14:01:05.577253",
     "status": "completed"
    },
    "tags": []
   },
   "outputs": [],
   "source": [
    "from sklearn.compose import ColumnTransformer\n",
    "from sklearn.pipeline import Pipeline\n",
    "from sklearn.impute import SimpleImputer\n",
    "from sklearn.preprocessing import OneHotEncoder\n",
    "\n",
    "\n",
    "# Preprocessing numerical data\n",
    "\n",
    "numerical_transformer = SimpleImputer(strategy='constant')\n",
    "\n",
    "# Preprocessing for categorical data\n",
    "\n",
    "catergorical_transformer = Pipeline(steps=[\n",
    "    ('imputer', SimpleImputer(strategy='most_frequent')),\n",
    "    ('onehot', OneHotEncoder(handle_unknown = 'ignore'))\n",
    "])"
   ]
  },
  {
   "cell_type": "code",
   "execution_count": 6,
   "metadata": {
    "execution": {
     "iopub.execute_input": "2020-12-21T14:01:05.780437Z",
     "iopub.status.busy": "2020-12-21T14:01:05.779637Z",
     "iopub.status.idle": "2020-12-21T14:01:05.782913Z",
     "shell.execute_reply": "2020-12-21T14:01:05.782279Z"
    },
    "papermill": {
     "duration": 0.014673,
     "end_time": "2020-12-21T14:01:05.783024",
     "exception": false,
     "start_time": "2020-12-21T14:01:05.768351",
     "status": "completed"
    },
    "tags": []
   },
   "outputs": [],
   "source": [
    "# Bundle Preprocessing for Numerical and Categorical Data\n",
    "\n",
    "preprocessor = ColumnTransformer(\n",
    "\n",
    "    transformers=[\n",
    "        ('num', numerical_transformer, numerical_cols),\n",
    "        ('cat', catergorical_transformer, categorical_cols)\n",
    "    ]\n",
    ")"
   ]
  },
  {
   "cell_type": "code",
   "execution_count": 7,
   "metadata": {
    "execution": {
     "iopub.execute_input": "2020-12-21T14:01:05.801559Z",
     "iopub.status.busy": "2020-12-21T14:01:05.800932Z",
     "iopub.status.idle": "2020-12-21T14:01:05.857506Z",
     "shell.execute_reply": "2020-12-21T14:01:05.856837Z"
    },
    "papermill": {
     "duration": 0.067781,
     "end_time": "2020-12-21T14:01:05.857622",
     "exception": false,
     "start_time": "2020-12-21T14:01:05.789841",
     "status": "completed"
    },
    "tags": []
   },
   "outputs": [],
   "source": [
    "from sklearn.ensemble import RandomForestRegressor\n",
    "\n",
    "model = RandomForestRegressor(n_estimators=100, random_state=0)"
   ]
  },
  {
   "cell_type": "code",
   "execution_count": 8,
   "metadata": {
    "execution": {
     "iopub.execute_input": "2020-12-21T14:01:05.882796Z",
     "iopub.status.busy": "2020-12-21T14:01:05.882145Z",
     "iopub.status.idle": "2020-12-21T14:01:13.436132Z",
     "shell.execute_reply": "2020-12-21T14:01:13.436667Z"
    },
    "papermill": {
     "duration": 7.57236,
     "end_time": "2020-12-21T14:01:13.436821",
     "exception": false,
     "start_time": "2020-12-21T14:01:05.864461",
     "status": "completed"
    },
    "tags": []
   },
   "outputs": [
    {
     "name": "stdout",
     "output_type": "stream",
     "text": [
      "MAE :  163987.3804899362\n"
     ]
    }
   ],
   "source": [
    "# Create and Evaluate Pipeline\n",
    "\n",
    "from sklearn.metrics import mean_absolute_error\n",
    "\n",
    "# Bundle preprocessor and modeling code in pipeline\n",
    "\n",
    "my_pipeline = Pipeline(steps=[\n",
    "    ('preprocessor', preprocessor),\n",
    "    ('model', model)\n",
    "])\n",
    "\n",
    "# my_pipeline.fit_transform(train_X, train_y, model__early_stopping_rounds=5, model__eval_set=[(test_X, test_y)])\n",
    "my_pipeline.fit(train_X, train_y)\n",
    "\n",
    "preds = my_pipeline.predict(test_X)\n",
    "\n",
    "score = mean_absolute_error(test_y, preds)\n",
    "print('MAE : ', score)"
   ]
  },
  {
   "cell_type": "code",
   "execution_count": null,
   "metadata": {
    "papermill": {
     "duration": 0.006956,
     "end_time": "2020-12-21T14:01:13.451375",
     "exception": false,
     "start_time": "2020-12-21T14:01:13.444419",
     "status": "completed"
    },
    "tags": []
   },
   "outputs": [],
   "source": []
  }
 ],
 "metadata": {
  "kernelspec": {
   "display_name": "Python 3",
   "language": "python",
   "name": "python3"
  },
  "language_info": {
   "codemirror_mode": {
    "name": "ipython",
    "version": 3
   },
   "file_extension": ".py",
   "mimetype": "text/x-python",
   "name": "python",
   "nbconvert_exporter": "python",
   "pygments_lexer": "ipython3",
   "version": "3.7.6"
  },
  "papermill": {
   "duration": 14.891775,
   "end_time": "2020-12-21T14:01:14.552365",
   "environment_variables": {},
   "exception": null,
   "input_path": "__notebook__.ipynb",
   "output_path": "__notebook__.ipynb",
   "parameters": {},
   "start_time": "2020-12-21T14:00:59.660590",
   "version": "2.1.0"
  }
 },
 "nbformat": 4,
 "nbformat_minor": 4
}
